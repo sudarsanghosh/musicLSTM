{
 "cells": [
  {
   "cell_type": "code",
   "execution_count": 1,
   "metadata": {},
   "outputs": [
    {
     "name": "stderr",
     "output_type": "stream",
     "text": [
      "Using TensorFlow backend.\n"
     ]
    }
   ],
   "source": [
    "import pretty_midi\n",
    "import pandas as pd\n",
    "import numpy as np\n",
    "import matplotlib\n",
    "import keras\n",
    "from keras.models import Sequential\n",
    "from keras.layers import LSTM\n",
    "from keras.callbacks import ModelCheckpoint\n",
    "from keras.layers import Dense\n",
    "from keras.layers import TimeDistributed\n",
    "from keras.models import load_model\n"
   ]
  },
  {
   "cell_type": "code",
   "execution_count": 7,
   "metadata": {},
   "outputs": [
    {
     "name": "stdout",
     "output_type": "stream",
     "text": [
      "(63, 128)\n",
      "[[[ 0.  0.  0. ...,  0.  0.  0.]]\n",
      "\n",
      " [[ 0.  0.  0. ...,  0.  0.  0.]]\n",
      "\n",
      " [[ 0.  0.  0. ...,  0.  0.  0.]]\n",
      "\n",
      " ..., \n",
      " [[ 0.  0.  0. ...,  0.  0.  0.]]\n",
      "\n",
      " [[ 0.  0.  0. ...,  0.  0.  0.]]\n",
      "\n",
      " [[ 0.  0.  0. ...,  0.  0.  0.]]]\n"
     ]
    }
   ],
   "source": [
    "midi=pretty_midi.PrettyMIDI('001.mid',220)\n",
    "df=pd.DataFrame(midi.get_piano_roll(fs=4))\n",
    "#print(df)\n",
    "#df.to_csv('out11.csv')\n",
    "\n",
    "#data=df.values\n",
    "#print(df[1:10])\n",
    "\n",
    "#print('df')\n",
    "target1 = df.transpose()\n",
    "\n",
    "\n",
    "target1[target1>0]=1\n",
    "target1.to_csv('out22.csv')\n",
    "#print(target1)\n",
    "\n",
    "target=target1[1:]\n",
    "data=target1[:-1]\n",
    "\n",
    "\n",
    "target11=target.values\n",
    "data=data.values\n",
    "\n",
    "print(target.shape)\n",
    "\n",
    "data = np.reshape(data,(63,1,128))\n",
    "target = np.reshape(target11,(63,1,128))\n",
    "print(data)"
   ]
  },
  {
   "cell_type": "code",
   "execution_count": 8,
   "metadata": {
    "collapsed": true
   },
   "outputs": [],
   "source": [
    "#from sklearn.model_selection import train_test_split"
   ]
  },
  {
   "cell_type": "code",
   "execution_count": 9,
   "metadata": {},
   "outputs": [
    {
     "ename": "IndentationError",
     "evalue": "unexpected indent (<ipython-input-9-3e506b844443>, line 2)",
     "output_type": "error",
     "traceback": [
      "\u001b[1;36m  File \u001b[1;32m\"<ipython-input-9-3e506b844443>\"\u001b[1;36m, line \u001b[1;32m2\u001b[0m\n\u001b[1;33m    test_size=0.2)\u001b[0m\n\u001b[1;37m    ^\u001b[0m\n\u001b[1;31mIndentationError\u001b[0m\u001b[1;31m:\u001b[0m unexpected indent\n"
     ]
    }
   ],
   "source": [
    "#X_train, X_test, y_train, y_test = train_test_split(data, target,\n",
    "                                                    test_size=0.2)\n",
    "#data.shape"
   ]
  },
  {
   "cell_type": "code",
   "execution_count": null,
   "metadata": {},
   "outputs": [],
   "source": [
    "#X_train.shape\n",
    "#X_test.shape"
   ]
  },
  {
   "cell_type": "code",
   "execution_count": null,
   "metadata": {
    "collapsed": true
   },
   "outputs": [],
   "source": []
  },
  {
   "cell_type": "code",
   "execution_count": null,
   "metadata": {},
   "outputs": [],
   "source": [
    "model = Sequential()\n",
    "model.add(LSTM(128,input_shape=(1,128),return_sequences=True))\n",
    "model.add(LSTM(128,return_sequences=True))\n",
    "model.add((Dense(128)))\n",
    "model.compile(loss='mean_squared_error',optimizer='adam',metrics=['acc'])\n",
    "model.fit(data,target,epochs=20,batch_size=1,verbose=2)"
   ]
  },
  {
   "cell_type": "code",
   "execution_count": null,
   "metadata": {
    "collapsed": true
   },
   "outputs": [],
   "source": [
    "#prediction\n",
    "yhat = model.predict(data)\n",
    "print(yhat.shape,'yhat11111')\n",
    "yhat1 = np.reshape(yhat,(63,128))\n",
    "print(yhat1.shape,'yhat11111')\n",
    "yhat1[yhat1>=0.5]=1\n",
    "yhat1[yhat1<0.5]=0\n",
    "df=pd.DataFrame(yhat1)\n",
    "df.to_csv('out11.csv')\n",
    "\n",
    "\n",
    "#i=(0.5 < yhat1)\n",
    "#yhat1=yhat1[yhat1<0.1]\n",
    "\n",
    "#print(yhat)\n",
    "#print(model.get_weights())\n",
    "\n",
    "\n",
    "yhat2 = np.transpose(yhat1)\n",
    "\n",
    "\n",
    "\n",
    "#print(df)\n",
    "#midi.fluidsynth(fs=44100)\n",
    "#df=pd.DataFrame(midi.get_piano_roll(1))\n",
    "#print(df.describe())\n",
    "#df=pd.DataFrame(midi.get_piano_roll(384),index=midi.get_piano_roll(384))\n",
    "#print(midi.get_end_time())\n",
    "#time=int(midi.get_end_time())\n",
    "\n",
    "\n",
    "def piano_roll_to_pretty_midi(piano_roll, fs=4, program=0):\n",
    "    '''Convert a Piano Roll array into a PrettyMidi object\n",
    "     with a single instrument.\n",
    "    Parameters\n",
    "    ----------\n",
    "    piano_roll : np.ndarray, shape=(128,frames), dtype=int\n",
    "        Piano roll of one instrument\n",
    "    fs : int\n",
    "        Sampling frequency of the columns, i.e. each column is spaced apart\n",
    "        by ``1./fs`` seconds.\n",
    "    program : int\n",
    "        The program number of the instrument.\n",
    "    Returns\n",
    "    -------\n",
    "    midi_object : pretty_midi.PrettyMIDI\n",
    "        A pretty_midi.PrettyMIDI class instance describing\n",
    "        the piano roll.\n",
    "    '''\n",
    "    notes, frames = piano_roll.shape\n",
    "    pm = pretty_midi.PrettyMIDI()\n",
    "    instrument = pretty_midi.Instrument(program=program)\n",
    "\n",
    "    # pad 1 column of zeros so we can acknowledge inital and ending events\n",
    "    piano_roll = np.pad(piano_roll, [(0, 0), (1, 1)], 'constant')\n",
    "\n",
    "    # use changes in velocities to find note on / note off events\n",
    "    velocity_changes = np.nonzero(np.diff(piano_roll).T)\n",
    "\n",
    "    # keep track on velocities and note on times\n",
    "    prev_velocities = np.zeros(notes, dtype=int)\n",
    "    note_on_time = np.zeros(notes)\n",
    "\n",
    "    for time, note in zip(*velocity_changes):\n",
    "        # use time + 1 because of padding above\n",
    "        velocity = piano_roll[note, time + 1]\n",
    "        time = time / fs\n",
    "        if velocity > 0:\n",
    "            if prev_velocities[note] == 0:\n",
    "                note_on_time[note] = time\n",
    "                prev_velocities[note] = velocity\n",
    "        else:\n",
    "            pm_note = pretty_midi.Note(\n",
    "                velocity=prev_velocities[note],\n",
    "                pitch=note,\n",
    "                start=note_on_time[note],\n",
    "                end=time)\n",
    "            instrument.notes.append(pm_note)\n",
    "            prev_velocities[note] = 0\n",
    "    pm.instruments.append(instrument)\n",
    "    return pm\n",
    "\n",
    "\n",
    "midi=piano_roll_to_pretty_midi(yhat2)\n",
    "\n",
    "\n",
    "midi.write('fiiinnnaal2.mid')"
   ]
  },
  {
   "cell_type": "code",
   "execution_count": null,
   "metadata": {
    "collapsed": true
   },
   "outputs": [],
   "source": []
  }
 ],
 "metadata": {
  "kernelspec": {
   "display_name": "Python 3",
   "language": "python",
   "name": "python3"
  },
  "language_info": {
   "codemirror_mode": {
    "name": "ipython",
    "version": 3
   },
   "file_extension": ".py",
   "mimetype": "text/x-python",
   "name": "python",
   "nbconvert_exporter": "python",
   "pygments_lexer": "ipython3",
   "version": "3.6.3"
  }
 },
 "nbformat": 4,
 "nbformat_minor": 2
}
